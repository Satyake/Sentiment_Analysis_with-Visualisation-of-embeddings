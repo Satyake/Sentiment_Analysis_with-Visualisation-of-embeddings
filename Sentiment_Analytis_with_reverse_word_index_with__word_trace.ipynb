{
  "nbformat": 4,
  "nbformat_minor": 0,
  "metadata": {
    "colab": {
      "name": "Sentiment-Analytis- with reverse_word_index_with _word_trace",
      "provenance": [],
      "authorship_tag": "ABX9TyMuwl2AzBVjHcSgneAWmvOv",
      "include_colab_link": true
    },
    "kernelspec": {
      "name": "python3",
      "display_name": "Python 3"
    },
    "language_info": {
      "name": "python"
    }
  },
  "cells": [
    {
      "cell_type": "markdown",
      "metadata": {
        "id": "view-in-github",
        "colab_type": "text"
      },
      "source": [
        "<a href=\"https://colab.research.google.com/github/Satyake/Sentiment_Analysis_with-Visualisation-of-embeddings/blob/main/Sentiment_Analytis_with_reverse_word_index_with__word_trace.ipynb\" target=\"_parent\"><img src=\"https://colab.research.google.com/assets/colab-badge.svg\" alt=\"Open In Colab\"/></a>"
      ]
    },
    {
      "cell_type": "code",
      "metadata": {
        "id": "_m_QtZzoMOj6"
      },
      "source": [
        "import tensorflow as tf\n",
        "import numpy as np \n",
        "import tensorflow_datasets as tfds"
      ],
      "execution_count": 39,
      "outputs": []
    },
    {
      "cell_type": "code",
      "metadata": {
        "id": "FbxbV56OOU25"
      },
      "source": [
        "imdb,info=tfds.load(\"imdb_reviews\",with_info=True,as_supervised=True)"
      ],
      "execution_count": 40,
      "outputs": []
    },
    {
      "cell_type": "code",
      "metadata": {
        "colab": {
          "base_uri": "https://localhost:8080/"
        },
        "id": "TRQhbc8UhWkX",
        "outputId": "8482c212-0d9d-47e7-d2a3-90f0bece62bc"
      },
      "source": [
        "imdb['train']"
      ],
      "execution_count": 41,
      "outputs": [
        {
          "output_type": "execute_result",
          "data": {
            "text/plain": [
              "<PrefetchDataset shapes: ((), ()), types: (tf.string, tf.int64)>"
            ]
          },
          "metadata": {
            "tags": []
          },
          "execution_count": 41
        }
      ]
    },
    {
      "cell_type": "code",
      "metadata": {
        "id": "iptOvNMiOnGS"
      },
      "source": [
        "training_sentences=[]\n",
        "training_labels=[]\n",
        "testing_sentences=[]\n",
        "testing_labels=[]\n",
        "\n"
      ],
      "execution_count": 49,
      "outputs": []
    },
    {
      "cell_type": "code",
      "metadata": {
        "id": "gkFn_HEOatQw"
      },
      "source": [
        "train_data,test_data=imdb['train'],imdb['test']"
      ],
      "execution_count": 50,
      "outputs": []
    },
    {
      "cell_type": "code",
      "metadata": {
        "id": "QfgDjbJsa1JT"
      },
      "source": [
        "for sentence,label in train_data:\n",
        "  training_sentences.append(sentence.numpy().decode('utf8'))\n",
        "  training_labels.append(label.numpy())\n",
        "for sentence,label in test_data:\n",
        "  testing_sentences.append(sentence.numpy().decode('utf8'))\n",
        "  testing_labels.append(label.numpy())\n",
        "training_labels=np.array(training_labels)\n",
        "testing_labels=np.array(testing_labels)"
      ],
      "execution_count": 51,
      "outputs": []
    },
    {
      "cell_type": "code",
      "metadata": {
        "colab": {
          "base_uri": "https://localhost:8080/"
        },
        "id": "Gh30MLuHbVfI",
        "outputId": "884055c9-cd6a-4adb-b6e2-e1f3b863716c"
      },
      "source": [
        "training_labels.shape"
      ],
      "execution_count": 52,
      "outputs": [
        {
          "output_type": "execute_result",
          "data": {
            "text/plain": [
              "(25000,)"
            ]
          },
          "metadata": {
            "tags": []
          },
          "execution_count": 52
        }
      ]
    },
    {
      "cell_type": "code",
      "metadata": {
        "id": "cxz1WZs7N1iR"
      },
      "source": [
        "training_sentences"
      ],
      "execution_count": null,
      "outputs": []
    },
    {
      "cell_type": "code",
      "metadata": {
        "id": "cya_wxINiYWc"
      },
      "source": [
        "from tensorflow.keras.preprocessing.text import Tokenizer\n",
        "from tensorflow.keras.preprocessing.sequence import pad_sequences"
      ],
      "execution_count": 57,
      "outputs": []
    },
    {
      "cell_type": "code",
      "metadata": {
        "id": "mGrtHOTgNZX0"
      },
      "source": [
        "vocab_size=11000\n",
        "embedding_dim=16\n",
        "max_length=120\n",
        "oov_tok='<OOV>'\n",
        "tknizer=Tokenizer(num_words=vocab_size,oov_token=oov_tok)\n",
        "tknizer.fit_on_texts(training_sentences)\n",
        "sequences=tknizer.texts_to_sequences(training_sentences)\n",
        "padded_sequences=pad_sequences(sequences,maxlen=max_length)\n",
        "test_padded_sequences=pad_sequences(tknizer.texts_to_sequences(testing_sentences))\n"
      ],
      "execution_count": 86,
      "outputs": []
    },
    {
      "cell_type": "code",
      "metadata": {
        "id": "YrqJvUmtiiau"
      },
      "source": [
        "word_index=tknizer.word_index"
      ],
      "execution_count": 65,
      "outputs": []
    },
    {
      "cell_type": "code",
      "metadata": {
        "id": "oavknM2VOvrq"
      },
      "source": [
        "reverse_word_index=dict([(value,key) for (key,value) in word_index.items()])\n",
        "def decode_review(text):\n",
        "  return ' '.join([reverse_word_index.get(i,'x') for i in text])\n"
      ],
      "execution_count": 82,
      "outputs": []
    },
    {
      "cell_type": "code",
      "metadata": {
        "colab": {
          "base_uri": "https://localhost:8080/",
          "height": 118
        },
        "id": "UMRkW86NPS_2",
        "outputId": "cdc1957e-7bfb-4f2d-e30a-a5c4b0138a80"
      },
      "source": [
        "decode_review(padded_sequences[0])\n",
        "#training_sentences[0]"
      ],
      "execution_count": 107,
      "outputs": [
        {
          "output_type": "execute_result",
          "data": {
            "application/vnd.google.colaboratory.intrinsic+json": {
              "type": "string"
            },
            "text/plain": [
              "\"x x x this was an absolutely terrible movie don't be lured in by christopher walken or michael <OOV> both are great actors but this must simply be their worst role in history even their great acting could not redeem this movie's ridiculous storyline this movie is an early nineties us propaganda piece the most pathetic scenes were those when the <OOV> rebels were making their cases for <OOV> maria <OOV> <OOV> appeared phony and her pseudo love affair with walken was nothing but a pathetic emotional plug in a movie that was devoid of any real meaning i am disappointed that there are movies like this ruining actor's like christopher <OOV> good name i could barely sit through it\""
            ]
          },
          "metadata": {
            "tags": []
          },
          "execution_count": 107
        }
      ]
    },
    {
      "cell_type": "code",
      "metadata": {
        "id": "oRcRMXF7PU84"
      },
      "source": [
        ""
      ],
      "execution_count": 72,
      "outputs": []
    },
    {
      "cell_type": "code",
      "metadata": {
        "id": "2Ko0eMc-Pkmx"
      },
      "source": [
        "model=tf.keras.Sequential([\n",
        "     tf.keras.layers.Embedding(vocab_size,embedding_dim,input_length=max_length),\n",
        "     #tf.keras.layers.Bidirectional(tf.keras.layers.LSTM(1,activation='relu',return_sequences=False)),\n",
        "     tf.keras.layers.GlobalAveragePooling1D(),\n",
        "     tf.keras.layers.Dense(4,activation='relu'),\n",
        "     tf.keras.layers.Dense(1,activation='sigmoid')\n",
        "])\n"
      ],
      "execution_count": 131,
      "outputs": []
    },
    {
      "cell_type": "code",
      "metadata": {
        "id": "FrAemu2hRtt1"
      },
      "source": [
        "model.compile(loss='binary_crossentropy',optimizer=tf.keras.optimizers.Adam(learning_rate=0.0001),metrics=['accuracy'])\n"
      ],
      "execution_count": 132,
      "outputs": []
    },
    {
      "cell_type": "code",
      "metadata": {
        "colab": {
          "base_uri": "https://localhost:8080/"
        },
        "id": "qKY7gWbOR1bW",
        "outputId": "16c4d1fc-ec9b-446c-a312-8147e5f3ab3f"
      },
      "source": [
        "model.summary()"
      ],
      "execution_count": 133,
      "outputs": [
        {
          "output_type": "stream",
          "text": [
            "Model: \"sequential_7\"\n",
            "_________________________________________________________________\n",
            "Layer (type)                 Output Shape              Param #   \n",
            "=================================================================\n",
            "embedding_8 (Embedding)      (None, 120, 16)           176000    \n",
            "_________________________________________________________________\n",
            "global_average_pooling1d_6 ( (None, 16)                0         \n",
            "_________________________________________________________________\n",
            "dense_15 (Dense)             (None, 128)               2176      \n",
            "_________________________________________________________________\n",
            "dense_16 (Dense)             (None, 1)                 129       \n",
            "=================================================================\n",
            "Total params: 178,305\n",
            "Trainable params: 178,305\n",
            "Non-trainable params: 0\n",
            "_________________________________________________________________\n"
          ],
          "name": "stdout"
        }
      ]
    },
    {
      "cell_type": "code",
      "metadata": {
        "colab": {
          "base_uri": "https://localhost:8080/"
        },
        "id": "XSHjcPO3PtSO",
        "outputId": "b21c6cb6-5f30-4c82-b799-7324a7e62e37"
      },
      "source": [
        "patience = 1\n",
        "stop_patience = 3\n",
        "factor = 0.5\n",
        "\n",
        "callbacks = [\n",
        "    #tf.keras.callbacks.ModelCheckpoint(\"classify_model.h5\", save_best_only=True, verbose = 0),\n",
        "   # tf.keras.callbacks.EarlyStopping(patience=stop_patience, monitor='val_accuracy', verbose=1),\n",
        "    #tf.keras.callbacks.ReduceLROnPlateau(monitor='val_accuracy', factor=factor, patience=patience, verbose=1)\n",
        "]\n",
        "model.fit(padded_sequences,training_labels,epochs=10,validation_data=(test_padded_sequences,testing_labels))"
      ],
      "execution_count": 134,
      "outputs": [
        {
          "output_type": "stream",
          "text": [
            "Epoch 1/10\n",
            "776/782 [============================>.] - ETA: 0s - loss: 0.6854 - accuracy: 0.6521WARNING:tensorflow:Model was constructed with shape (None, 120) for input KerasTensor(type_spec=TensorSpec(shape=(None, 120), dtype=tf.float32, name='embedding_8_input'), name='embedding_8_input', description=\"created by layer 'embedding_8_input'\"), but it was called on an input with incompatible shape (None, 2332).\n"
          ],
          "name": "stdout"
        },
        {
          "output_type": "stream",
          "text": [
            "WARNING:tensorflow:Model was constructed with shape (None, 120) for input KerasTensor(type_spec=TensorSpec(shape=(None, 120), dtype=tf.float32, name='embedding_8_input'), name='embedding_8_input', description=\"created by layer 'embedding_8_input'\"), but it was called on an input with incompatible shape (None, 2332).\n"
          ],
          "name": "stderr"
        },
        {
          "output_type": "stream",
          "text": [
            "782/782 [==============================] - 7s 8ms/step - loss: 0.6853 - accuracy: 0.6528 - val_loss: 0.7019 - val_accuracy: 0.5000\n",
            "Epoch 2/10\n",
            "782/782 [==============================] - 6s 7ms/step - loss: 0.6012 - accuracy: 0.7797 - val_loss: 0.6988 - val_accuracy: 0.5004\n",
            "Epoch 3/10\n",
            "782/782 [==============================] - 6s 8ms/step - loss: 0.4638 - accuracy: 0.8326 - val_loss: 0.6782 - val_accuracy: 0.5073\n",
            "Epoch 4/10\n",
            "782/782 [==============================] - 6s 8ms/step - loss: 0.3734 - accuracy: 0.8574 - val_loss: 0.6663 - val_accuracy: 0.5144\n",
            "Epoch 5/10\n",
            "782/782 [==============================] - 6s 8ms/step - loss: 0.3247 - accuracy: 0.8729 - val_loss: 0.6279 - val_accuracy: 0.6669\n",
            "Epoch 6/10\n",
            "782/782 [==============================] - 6s 7ms/step - loss: 0.2949 - accuracy: 0.8824 - val_loss: 0.6294 - val_accuracy: 0.5727\n",
            "Epoch 7/10\n",
            "782/782 [==============================] - 6s 8ms/step - loss: 0.2736 - accuracy: 0.8917 - val_loss: 0.6660 - val_accuracy: 0.5207\n",
            "Epoch 8/10\n",
            "782/782 [==============================] - 6s 8ms/step - loss: 0.2569 - accuracy: 0.8977 - val_loss: 0.6308 - val_accuracy: 0.5490\n",
            "Epoch 9/10\n",
            "782/782 [==============================] - 6s 7ms/step - loss: 0.2427 - accuracy: 0.9042 - val_loss: 0.6206 - val_accuracy: 0.5692\n",
            "Epoch 10/10\n",
            "782/782 [==============================] - 6s 7ms/step - loss: 0.2303 - accuracy: 0.9087 - val_loss: 0.5922 - val_accuracy: 0.7657\n"
          ],
          "name": "stdout"
        },
        {
          "output_type": "execute_result",
          "data": {
            "text/plain": [
              "<tensorflow.python.keras.callbacks.History at 0x7fb3a6409c90>"
            ]
          },
          "metadata": {
            "tags": []
          },
          "execution_count": 134
        }
      ]
    },
    {
      "cell_type": "code",
      "metadata": {
        "colab": {
          "base_uri": "https://localhost:8080/"
        },
        "id": "z1S5UR15WSJN",
        "outputId": "7412d5b6-5622-44f2-c807-b523a872c142"
      },
      "source": [
        "e=model.layers[0]\n",
        "weights=e.get_weights()[0]\n",
        "print(weights.shape)"
      ],
      "execution_count": 135,
      "outputs": [
        {
          "output_type": "stream",
          "text": [
            "(11000, 16)\n"
          ],
          "name": "stdout"
        }
      ]
    },
    {
      "cell_type": "code",
      "metadata": {
        "colab": {
          "base_uri": "https://localhost:8080/"
        },
        "id": "40g_dMzBW2sf",
        "outputId": "9be6a6e7-1e8a-4db9-c717-ea9f286d53c9"
      },
      "source": [
        "weights.shape"
      ],
      "execution_count": 136,
      "outputs": [
        {
          "output_type": "execute_result",
          "data": {
            "text/plain": [
              "(11000, 16)"
            ]
          },
          "metadata": {
            "tags": []
          },
          "execution_count": 136
        }
      ]
    },
    {
      "cell_type": "code",
      "metadata": {
        "id": "dNuZVTNzWyO8"
      },
      "source": [
        "import io\n",
        "out_v=io.open('vecs.tsv','w',encoding='utf8')\n",
        "out_m=io.open('meta.tsv','w',encoding='utf8')\n",
        "for word_num in range(1,vocab_size):\n",
        "  word=reverse_word_index[word_num]\n",
        "  embeddings=weights[word_num]\n",
        "  out_m.write(word+'\\n')\n",
        "  out_v.write('\\t'.join([str(x)for x in embeddings])+'\\n')\n",
        "out_m.close()\n",
        "out_v.close()"
      ],
      "execution_count": 137,
      "outputs": []
    }
  ]
}